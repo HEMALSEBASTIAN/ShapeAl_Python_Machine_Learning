{
  "nbformat": 4,
  "nbformat_minor": 0,
  "metadata": {
    "colab": {
      "name": "HEMAL SEBASTIAN.ipynb",
      "provenance": [],
      "collapsed_sections": []
    },
    "kernelspec": {
      "name": "python3",
      "display_name": "Python 3"
    },
    "language_info": {
      "name": "python"
    }
  },
  "cells": [
    {
      "cell_type": "code",
      "metadata": {
        "colab": {
          "base_uri": "https://localhost:8080/"
        },
        "id": "53eUoFq8ow9n",
        "outputId": "8cb30e07-205c-49ef-dec8-b1d632873e5c"
      },
      "source": [
        "import numpy as np\n",
        "import pandas as pd\n",
        "import sklearn #machine learning framework\n",
        "from sklearn.datasets import load_boston\n",
        "df=load_boston()\n",
        "df.keys()\n",
        "boston=pd.DataFrame(df.data,columns=df.feature_names)\n",
        "boston.head()\n",
        "boston['MEDV']=df.target #create a new column MEDV\n",
        "boston.isnull() #check for null value\n",
        "boston.isnull().sum()\n",
        "\n",
        "from sklearn.model_selection import train_test_split\n",
        "x=boston.drop('MEDV',axis=1) #axis =1 drop column ,axis =0 drop row\n",
        "y=boston['MEDV']\n",
        "x_train,x_test,y_train,y_test=train_test_split(x,y,test_size=0.15,random_state=5) #set random_state to any arbitary number\n",
        "x_train.shape #(430,13)\n",
        "x_test.shape  #(76,13)\n",
        "y_train.shape  #(430,)\n",
        "y_test.shape #(76,)\n",
        "\n",
        "from sklearn.linear_model import LinearRegression\n",
        "from sklearn.metrics import mean_squared_error\n",
        "\n",
        "lin_model=LinearRegression() #Ml algorithm is made\n",
        "lin_model.fit(x_train,y_train)\n",
        "\n",
        "y_train_predict=lin_model.predict(x_train) #predict the answers for x_train inp\n",
        "rmse=(np.sqrt(mean_squared_error(y_train,y_train_predict))) #we get answer as y_train, which is compared with y_train_predict\n",
        "print(\"The model performance for the training set\")\n",
        "print('RMSE is {}',format(rmse))\n",
        "print(\"\\n\")\n",
        "\n",
        "y_test_predict=lin_model.predict(x_test)\n",
        "rmse=(np.sqrt(mean_squared_error(y_test,y_test_predict)))\n",
        "print(\"Thus model performance for the testing set\")\n",
        "print('RMSE is {}'.format(rmse))\n",
        "\n",
        "\n",
        "\n"
      ],
      "execution_count": 26,
      "outputs": [
        {
          "output_type": "stream",
          "text": [
            "The model performance for the training set\n",
            "RMSE is {} 4.710901797319796\n",
            "\n",
            "\n",
            "Thus model performance for the testing set\n",
            "RMSE is 4.687543527902972\n"
          ],
          "name": "stdout"
        }
      ]
    }
  ]
}